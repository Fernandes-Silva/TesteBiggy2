{
 "cells": [
  {
   "cell_type": "code",
   "execution_count": 1,
   "metadata": {},
   "outputs": [],
   "source": [
    "import threading "
   ]
  },
  {
   "cell_type": "code",
   "execution_count": 2,
   "metadata": {},
   "outputs": [],
   "source": [
    "from threading import Timer #usei a subclass Timer para usar como cronometro\n",
    "Button = False #lanterna inicia desligada\n",
    "Battery = 100 #Bateria inicia 100%\n",
    "change = False #Botão troca de bateria"
   ]
  },
  {
   "cell_type": "code",
   "execution_count": 3,
   "metadata": {},
   "outputs": [],
   "source": [
    "def dec(x):\n",
    "    x = x - 1\n",
    "    return x\n",
    "    print(\"Bateria:\" , x) #funcão que tentei incorporar no Timer"
   ]
  },
  {
   "cell_type": "code",
   "execution_count": 4,
   "metadata": {},
   "outputs": [],
   "source": [
    "if Button == True: #ao ligar a lanterna\n",
    "    if Battery > 0:\n",
    "        t = Timer(1.0, dec(Battery)).start() #não consegui usar a função timer certo\n",
    "if Battery == 0:\n",
    "    Button = False #lanterna desliga quando acaba a bateria\n",
    "if change == True: \n",
    "    Battery = 100 #botão troca de bateria\n",
    "    if Battery == 100:\n",
    "        change = False #botao desliga em sequencia"
   ]
  },
  {
   "cell_type": "code",
   "execution_count": 11,
   "metadata": {},
   "outputs": [],
   "source": [
    "class Lanterna: \n",
    "    def onoff(A,swich): #Botão Liga/desliga\n",
    "        A = not A\n",
    "        return"
   ]
  },
  {
   "cell_type": "code",
   "execution_count": 12,
   "metadata": {},
   "outputs": [],
   "source": [
    "class Bateria: \n",
    "    def troca(B,swich): #Botão troca de bateria\n",
    "        B = not B\n",
    "        return"
   ]
  },
  {
   "cell_type": "code",
   "execution_count": 13,
   "metadata": {},
   "outputs": [],
   "source": [
    "lanterna = Lanterna() \n",
    "bateria = Bateria()"
   ]
  },
  {
   "cell_type": "code",
   "execution_count": null,
   "metadata": {},
   "outputs": [],
   "source": []
  }
 ],
 "metadata": {
  "kernelspec": {
   "display_name": "Python 3",
   "language": "python",
   "name": "python3"
  },
  "language_info": {
   "codemirror_mode": {
    "name": "ipython",
    "version": 3
   },
   "file_extension": ".py",
   "mimetype": "text/x-python",
   "name": "python",
   "nbconvert_exporter": "python",
   "pygments_lexer": "ipython3",
   "version": "3.6.5"
  }
 },
 "nbformat": 4,
 "nbformat_minor": 2
}
